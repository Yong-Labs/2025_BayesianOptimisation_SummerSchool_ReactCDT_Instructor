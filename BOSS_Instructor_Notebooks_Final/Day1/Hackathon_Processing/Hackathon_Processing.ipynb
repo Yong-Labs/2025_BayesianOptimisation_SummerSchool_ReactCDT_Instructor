{
 "cells": [
  {
   "cell_type": "markdown",
   "id": "245a4495-7a67-4c61-a61d-927e95c7fd20",
   "metadata": {},
   "source": [
    "#### Package Imports"
   ]
  },
  {
   "cell_type": "code",
   "execution_count": 45,
   "id": "ca3544f4-9fe3-4471-8c41-53df5aeffd38",
   "metadata": {},
   "outputs": [],
   "source": [
    "import numpy as np\n",
    "import numpy.random as rnd\n",
    "import matplotlib.pyplot as plt\n",
    "from mpl_toolkits.mplot3d import axes3d, Axes3D\n",
    "import plotly.graph_objs as go\n",
    "from scipy.integrate import quad\n",
    "from scipy.spatial.distance import cdist\n",
    "from scipy.optimize import minimize, differential_evolution, NonlinearConstraint\n",
    "from sklearn.decomposition import PCA\n",
    "import math\n",
    "import time\n",
    "import sobol_seq\n",
    "import torch\n",
    "import gpytorch\n",
    "import copy\n",
    "import rdkit\n",
    "import os\n",
    "\n",
    "from datetime import datetime, timedelta\n",
    "import time"
   ]
  },
  {
   "cell_type": "markdown",
   "id": "a8344784-4584-4029-b753-e94428aa4f73",
   "metadata": {},
   "source": [
    "#### Objective Function"
   ]
  },
  {
   "cell_type": "code",
   "execution_count": 37,
   "id": "ea72e3b2-26d8-4825-8d28-d335ba070915",
   "metadata": {},
   "outputs": [],
   "source": [
    "def obj_func(X):\n",
    "      sum1=0\n",
    "      sum2=0\n",
    "      for c in range(1,6):\n",
    "          i = c *0.4\n",
    "          sum1 = sum1 + (i* np.cos(((i+1)*(X[0]+3.24)) +i)) + 2 * i\n",
    "          sum2 = sum2 + (i* np.cos(((i+1)*(X[1]-4.57)) +i)) + 3 * i\n",
    "      return sum1 * sum2"
   ]
  },
  {
   "cell_type": "markdown",
   "id": "629546e9-273c-46fb-98a2-0caca13dd363",
   "metadata": {},
   "source": [
    "#### Processing (Intermediate)"
   ]
  },
  {
   "cell_type": "code",
   "execution_count": 50,
   "id": "a4ef4ad6-8773-48a3-8850-2a509a38cf0f",
   "metadata": {},
   "outputs": [
    {
     "name": "stdout",
     "output_type": "stream",
     "text": [
      "[141.11386737]\n",
      "Yong1_final.py 141.11386737184463\n",
      "[141.11386737]\n",
      "Yong_final.py 141.11386737184463\n"
     ]
    }
   ],
   "source": [
    "parent_submission_filename = 'submissions'\n",
    "repeat_numbers = 1\n",
    "\n",
    "py_files = [f for f in os.listdir(parent_submission_filename ) if f.endswith(\".py\")]\n",
    "for py_file in py_files:\n",
    "    minimumY = []\n",
    "    for repeat in range(repeat_numbers):\n",
    "        with open(f'{parent_submission_filename }/{py_file}', \"r\") as f:\n",
    "            script_text = f.read()\n",
    "            exec(script_text, globals())\n",
    "            minimumY += [min(BO_m.Y)]\n",
    "    print(py_file, np.average(minimumY)) "
   ]
  },
  {
   "cell_type": "markdown",
   "id": "bb95333c-ff5e-4ab6-a887-a8fe26fecd0e",
   "metadata": {},
   "source": [
    "#### Processing (Advanced)"
   ]
  },
  {
   "cell_type": "code",
   "execution_count": 49,
   "id": "4ef80e77-1a31-4e7e-bd7b-8ef3abd4b9f5",
   "metadata": {},
   "outputs": [
    {
     "name": "stdout",
     "output_type": "stream",
     "text": [
      "[141.11386737]\n",
      "Yong1_final.py 141.11386737184463 -2358.8861326281553\n",
      "[141.11386737]\n",
      "Yong_final.py 141.11386737184463 -2358.8861326281553\n"
     ]
    }
   ],
   "source": [
    "parent_submission_filename = 'submissions'\n",
    "repeat_numbers = 1\n",
    "\n",
    "py_files = [f for f in os.listdir(parent_submission_filename ) if f.endswith(\".py\")]\n",
    "for py_file in py_files:\n",
    "    minimumY = []\n",
    "    scoring = []\n",
    "    for repeat in range(repeat_numbers):\n",
    "        with open(f'{parent_submission_filename }/{py_file}', \"r\") as f:\n",
    "            script_text = f.read()\n",
    "            exec(script_text, globals())\n",
    "            minimumY += [min(BO_m.Y)]\n",
    "            scoring += [min(BO_m.Y)-(BO_m.iterations**2)]\n",
    "    print(py_file, np.average(minimumY), np.average(scoring)) "
   ]
  },
  {
   "cell_type": "code",
   "execution_count": null,
   "id": "2320f157-69d8-425c-8bd6-1f2aafe2ba9d",
   "metadata": {},
   "outputs": [],
   "source": []
  }
 ],
 "metadata": {
  "kernelspec": {
   "display_name": "Python 3 (ipykernel)",
   "language": "python",
   "name": "python3"
  },
  "language_info": {
   "codemirror_mode": {
    "name": "ipython",
    "version": 3
   },
   "file_extension": ".py",
   "mimetype": "text/x-python",
   "name": "python",
   "nbconvert_exporter": "python",
   "pygments_lexer": "ipython3",
   "version": "3.11.11"
  }
 },
 "nbformat": 4,
 "nbformat_minor": 5
}
