{
 "cells": [
  {
   "cell_type": "markdown",
   "id": "245a4495-7a67-4c61-a61d-927e95c7fd20",
   "metadata": {},
   "source": [
    "#### Package Imports"
   ]
  },
  {
   "cell_type": "code",
   "execution_count": 5,
   "id": "ca3544f4-9fe3-4471-8c41-53df5aeffd38",
   "metadata": {},
   "outputs": [],
   "source": [
    "import numpy as np\n",
    "import numpy.random as rnd\n",
    "import matplotlib.pyplot as plt\n",
    "from mpl_toolkits.mplot3d import axes3d, Axes3D\n",
    "import plotly.graph_objs as go\n",
    "from scipy.integrate import quad\n",
    "from scipy.spatial.distance import cdist\n",
    "from scipy.optimize import minimize, differential_evolution, NonlinearConstraint\n",
    "from sklearn.decomposition import PCA\n",
    "import math\n",
    "import time\n",
    "import sobol_seq\n",
    "import torch\n",
    "import gpytorch\n",
    "import copy\n",
    "import rdkit\n",
    "import os\n",
    "\n",
    "from datetime import datetime, timedelta\n",
    "import time"
   ]
  },
  {
   "cell_type": "markdown",
   "id": "a8344784-4584-4029-b753-e94428aa4f73",
   "metadata": {},
   "source": [
    "#### Objective Function"
   ]
  },
  {
   "cell_type": "code",
   "execution_count": 3,
   "id": "ea72e3b2-26d8-4825-8d28-d335ba070915",
   "metadata": {},
   "outputs": [],
   "source": [
    "values = [\n",
    "    0.00, 0.00, 0.00, 0.98, 0.00, 0.00, 0.00, 0.00, 0.00, 0.71,\n",
    "    0.00, 0.00, 0.00, 0.00, 0.00, 1.04, 0.00, 0.00, 0.00, 0.00,\n",
    "    0.00, 1.17, 0.00, 0.00, 0.00, 0.00, 0.00, 2.73, 0.00, 0.00,\n",
    "    1.63, 2.99, 2.85, 2.53, 1.68, 2.10, 0.00, 0.00, 0.00, 0.96,\n",
    "    0.00, 7.53, 0.00, 0.00, 0.00, 0.93, 0.00, 3.44, 0.00, 0.00,\n",
    "    0.00, 1.00, 0.00, 1.25, 0.00, 0.00, 0.00, 0.00, 0.00, 2.84,\n",
    "    0.00, 0.00, 0.00, 0.40, 0.00, 3.08, 0.00, 1.21, 1.33, 2.08,\n",
    "    4.11, 39.52, 14.51, 91.50, 75.68, 12.76, 94.85, 100.00, 13.29,\n",
    "    79.30, 56.99, 9.84, 50.66, 85.40, 21.31, 72.83, 48.16, 21.30,\n",
    "    48.22, 58.76, 7.60, 53.00, 25.89, 9.62, 11.46, 96.19\n",
    "]\n",
    "\n",
    "values2 = [\n",
    "    0.00, 0.00, 0.00, 0.00, 0.00, 2.85, 0.00, 0.00, 0.00, 0.00,\n",
    "    0.00, 4.22, 0.00, 2.14, 3.82, 2.24, 6.73, 2.20, 0.00, 3.39,\n",
    "    6.02, 4.17, 12.20, 2.17, 0.00, 0.00, 0.00, 0.00, 0.00, 0.00,\n",
    "    0.00, 0.00, 0.00, 0.00, 1.45, 0.70, 0.00, 9.46, 14.17, 10.84,\n",
    "    13.16, 26.57, 0.00, 1.23, 2.27, 2.17, 4.08, 5.85, 0.00, 2.70,\n",
    "    3.22, 3.23, 13.11, 100.00, 0.89, 1.85, 2.84, 2.23, 13.15,\n",
    "    66.58, 0.00, 3.00, 3.29, 1.98, 5.78, 6.53, 5.55, 59.05, 66.65,\n",
    "    12.67, 71.33, 17.61, 72.85, 79.82, 77.47, 12.01, 80.70, 69.99,\n",
    "    56.73, 64.38, 59.94, 7.83, 22.39, 41.40, 49.73, 63.99, 59.58,\n",
    "    14.03, 25.01, 28.83, 76.45, 84.19, 80.28, 16.10, 32.63, 57.77\n",
    "]\n",
    "\n",
    "values3 = [\n",
    "    0.00, 0.00, 0.00, 0.00, 0.00, 0.00, 0.00, 0.00, 0.00, 0.00,\n",
    "    0.00, 0.00, 0.00, 1.57, 2.47, 1.78, 2.44, 0.00, 0.00, 0.00,\n",
    "    0.00, 0.00, 0.00, 0.00, 0.00, 0.00, 0.00, 0.00, 0.00, 0.00,\n",
    "    0.00, 0.00, 0.00, 0.00, 0.00, 0.00, 0.00, 0.00, 0.00, 0.00,\n",
    "    1.08, 0.00, 0.00, 0.00, 0.00, 0.00, 0.00, 0.00, 0.00, 0.00,\n",
    "    0.00, 0.00, 1.71, 0.00, 0.00, 0.00, 0.00, 0.00, 0.00, 0.00,\n",
    "    0.00, 0.00, 0.00, 0.00, 0.00, 0.00, 0.00, 8.24, 9.64, 7.41,\n",
    "    14.62, 1.12, 80.17, 88.63, 84.63, 11.77, 90.38, 92.19, 76.17,\n",
    "    90.86, 95.08, 9.87, 23.89, 77.24, 74.23, 82.87, 77.75, 16.29,\n",
    "    42.93, 61.42, 79.25, 91.14, 100.00, 15.72, 27.82, 81.91\n",
    "]\n",
    "\n",
    "values4 = [\n",
    "    0.00, 0.00, 0.00, 0.00, 0.00, 0.00, 0.00, 0.00, 0.00, 0.00,\n",
    "    0.00, 0.00, 0.00, 0.00, 0.00, 0.00, 0.00, 0.00, 0.00, 0.00,\n",
    "    0.00, 0.00, 0.00, 0.00, 0.00, 0.00, 0.00, 0.00, 0.00, 0.00,\n",
    "    0.00, 0.00, 0.00, 0.00, 0.00, 0.00, 0.00, 0.00, 0.00, 0.00,\n",
    "    0.00, 0.00, 0.00, 0.00, 0.00, 0.00, 0.00, 0.00, 0.00, 0.00,\n",
    "    0.00, 0.00, 0.00, 0.00, 0.00, 0.00, 0.00, 0.00, 0.00, 0.00,\n",
    "    0.00, 0.00, 0.00, 0.00, 0.00, 0.00, 0.00, 0.00, 0.00, 0.00,\n",
    "    0.00, 0.00, 16.69, 38.23, 38.47, 17.68, 33.10, 59.10, 41.87,\n",
    "    59.29, 56.15, 12.52, 59.85, 100.00, 29.14, 42.77, 36.08, 17.73,\n",
    "    32.18, 77.39, 45.33, 50.12, 51.52, 17.36, 37.45, 81.79\n",
    "]\n",
    "\n",
    "values5 = [\n",
    "    3.91, 3.88, 2.93, 2.78, 2.77, 0.00, 4.31, 2.52, 2.57, 2.26,\n",
    "    2.18, 4.07, 0.00, 6.07, 6.48, 5.16, 7.71, 1.03, 0.00, 0.00,\n",
    "    0.00, 0.00, 0.00, 1.22, 0.00, 0.00, 0.00, 0.00, 0.00, 0.00,\n",
    "    0.00, 0.00, 0.00, 0.00, 0.00, 0.00, 1.27, 2.80, 3.49, 3.09,\n",
    "    2.06, 2.28, 0.00, 0.00, 0.00, 0.00, 0.00, 0.00, 2.58, 4.18,\n",
    "    4.09, 3.12, 16.27, 11.37, 1.57, 1.52, 2.58, 1.80, 10.55, 28.43,\n",
    "    0.00, 1.03, 1.07, 1.01, 1.93, 14.39, 4.94, 76.39, 77.11, 21.85,\n",
    "    89.61, 83.31, 100.00, 70.56, 67.26, 20.98, 63.48, 77.69, 88.52,\n",
    "    95.52, 91.53, 18.80, 61.39, 42.12, 37.24, 89.43, 81.77, 29.05,\n",
    "    51.52, 27.04, 94.88, 99.53, 97.54, 31.54, 49.99, 45.94\n",
    "]\n"
   ]
  },
  {
   "cell_type": "markdown",
   "id": "629546e9-273c-46fb-98a2-0caca13dd363",
   "metadata": {},
   "source": [
    "#### Processing (Intermediate)"
   ]
  },
  {
   "cell_type": "code",
   "execution_count": 15,
   "id": "a4ef4ad6-8773-48a3-8850-2a509a38cf0f",
   "metadata": {},
   "outputs": [
    {
     "name": "stderr",
     "output_type": "stream",
     "text": [
      "<string>:126: DeprecationWarning: Conversion of an array with ndim > 0 to a scalar is deprecated, and will error in future. Ensure you extract a single element from your array before performing this operation. (Deprecated NumPy 1.25.)\n",
      "<string>:127: DeprecationWarning: Conversion of an array with ndim > 0 to a scalar is deprecated, and will error in future. Ensure you extract a single element from your array before performing this operation. (Deprecated NumPy 1.25.)\n"
     ]
    },
    {
     "name": "stdout",
     "output_type": "stream",
     "text": [
      "Yong_final.py -84.806\n"
     ]
    }
   ],
   "source": [
    "parent_submission_filename = 'submissions'\n",
    "repeat_numbers = 1\n",
    "exp_time = 0\n",
    "\n",
    "py_files = [f for f in os.listdir(parent_submission_filename ) if f.endswith(\".py\")]\n",
    "for py_file in py_files:\n",
    "    minimumY = []\n",
    "    for reaction_yield in [values,values2,values3,values4,values5]:\n",
    "        \n",
    "        def experiment_yield(condition , X_searchspace):\n",
    "            return(-reaction_yield[X_searchspace.index(condition)])\n",
    "            \n",
    "        for repeat in range(repeat_numbers):\n",
    "            with open(f'{parent_submission_filename }/{py_file}', \"r\") as f:\n",
    "                script_text = f.read()\n",
    "                exec(script_text, globals())\n",
    "                minimumY += [min(BO_m.Y)]\n",
    "                #print(BO_m.Y)\n",
    "                \n",
    "    print(py_file, np.average(minimumY)) "
   ]
  },
  {
   "cell_type": "markdown",
   "id": "bb95333c-ff5e-4ab6-a887-a8fe26fecd0e",
   "metadata": {},
   "source": [
    "#### Processing (Advanced)"
   ]
  },
  {
   "cell_type": "code",
   "execution_count": 17,
   "id": "2320f157-69d8-425c-8bd6-1f2aafe2ba9d",
   "metadata": {},
   "outputs": [
    {
     "name": "stderr",
     "output_type": "stream",
     "text": [
      "<string>:126: DeprecationWarning: Conversion of an array with ndim > 0 to a scalar is deprecated, and will error in future. Ensure you extract a single element from your array before performing this operation. (Deprecated NumPy 1.25.)\n",
      "<string>:127: DeprecationWarning: Conversion of an array with ndim > 0 to a scalar is deprecated, and will error in future. Ensure you extract a single element from your array before performing this operation. (Deprecated NumPy 1.25.)\n"
     ]
    },
    {
     "name": "stdout",
     "output_type": "stream",
     "text": [
      "Yong_final.py -79.016 -78.5670856628418\n"
     ]
    }
   ],
   "source": [
    "parent_submission_filename = 'submissions'\n",
    "repeat_numbers = 1\n",
    "exp_time = 0\n",
    "\n",
    "py_files = [f for f in os.listdir(parent_submission_filename ) if f.endswith(\".py\")]\n",
    "for py_file in py_files:\n",
    "    minimumY = []\n",
    "    runtime = [] \n",
    "    for reaction_yield in [values,values2,values3,values4,values5]:\n",
    "        \n",
    "        def experiment_yield(condition , X_searchspace):\n",
    "            return(-reaction_yield[X_searchspace.index(condition)])\n",
    "            \n",
    "        for repeat in range(repeat_numbers):\n",
    "            with open(f'{parent_submission_filename }/{py_file}', \"r\") as f:\n",
    "                script_text = f.read()\n",
    "                time1 = time.time()\n",
    "                exec(script_text, globals())\n",
    "                time2 = time.time()\n",
    "                minimumY += [min(BO_m.Y)]\n",
    "                runtime += [time2-time1]\n",
    "                #print(BO_m.Y)\n",
    "                \n",
    "    print(py_file, np.average(minimumY), np.average(minimumY)+np.average(runtime)) \n"
   ]
  },
  {
   "cell_type": "code",
   "execution_count": null,
   "id": "31a4e999-89cc-4134-9b34-f5a1d7cd9525",
   "metadata": {},
   "outputs": [],
   "source": []
  }
 ],
 "metadata": {
  "kernelspec": {
   "display_name": "Python 3 (ipykernel)",
   "language": "python",
   "name": "python3"
  },
  "language_info": {
   "codemirror_mode": {
    "name": "ipython",
    "version": 3
   },
   "file_extension": ".py",
   "mimetype": "text/x-python",
   "name": "python",
   "nbconvert_exporter": "python",
   "pygments_lexer": "ipython3",
   "version": "3.11.11"
  }
 },
 "nbformat": 4,
 "nbformat_minor": 5
}
